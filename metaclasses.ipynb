{
 "cells": [
  {
   "cell_type": "markdown",
   "metadata": {},
   "source": [
    "# Задание 7"
   ]
  },
  {
   "cell_type": "markdown",
   "metadata": {},
   "source": [
    "## 1. PropertyCreator (0.2 балла)\n",
    "\n",
    "Напишите мета класс для создания свойств (property) класса из функций начинающихся с \"set\\_\", \"get\\_\" или \"del_\". Пример использования:\n",
    "<code>\n",
    "    \n",
    "class TestPropertyCreator(metaclass=PropertyCreator):\n",
    "    \n",
    "    def \\__init\\__(self, lo):\n",
    "        self.__x = None\n",
    "        self.lo = lo\n",
    "\n",
    "    def get_x(self):\n",
    "        return self.__x\n",
    "\n",
    "    def set_x(self, value):\n",
    "        if value < self.lo:\n",
    "            raise ValueError(\"Value must in condition: {} <= value\".format(self.lo))\n",
    "        self.__x = value\n",
    "    \n",
    "    def del_x(self):\n",
    "        self.__x = \"No more\"\n",
    "\n",
    "    pass\n",
    "\n",
    "\n",
    "obj = TestPropertyCreator(5)\n",
    "obj.x = 4\n",
    "print(obj.x)\n",
    "del (obj.x)\n",
    "</code>\n",
    "\n",
    "* Мета класс должен поддерживать наследование, в смысле создавать свойства у потомков.\n",
    "* Должен поддерживать частичное описание свойств, т. е. например, описание одного метода get_val (без set_val и del_val).\n",
    "* Поддерживать множественное использование одного свойства с одним именем в разных классах:\n",
    "\n",
    "<code>\n",
    "class A(metaclass=PropertyCreator):\n",
    "    def get_x(self):\n",
    "        return \"x in class A\"\n",
    "\n",
    "class B(metaclass=PropertyCreator):\n",
    "    def get_x(self):\n",
    "        return \"x in class B\"\n",
    "\n",
    "class C(metaclass=PropertyCreator):\n",
    "    def set_x(self, value):\n",
    "        self.value = \"x in class C\"\n",
    "    def get_x(self):\n",
    "        return self.value\n",
    "</code>\n",
    "* Должен уметь обрабатывать имен с несколькими подчеркиваниями \"get_raw_text\"."
   ]
  },
  {
   "cell_type": "markdown",
   "metadata": {},
   "source": [
    "#### Решение"
   ]
  },
  {
   "cell_type": "code",
   "execution_count": 1,
   "metadata": {},
   "outputs": [],
   "source": [
    "from collections import defaultdict"
   ]
  },
  {
   "cell_type": "code",
   "execution_count": 2,
   "metadata": {},
   "outputs": [],
   "source": [
    "class PropertyCreator(type):\n",
    "    def __new__(cls, name, bases, attrs):\n",
    "        props = defaultdict(lambda: {'get': None, 'set': None, 'del': None})\n",
    "        new_attrs = {}\n",
    "        \n",
    "        for attr, value in attrs.items():\n",
    "            if attr.startswith('get_'):\n",
    "                props[attr[4:]]['get'] = value\n",
    "            elif attr.startswith('set_'):\n",
    "                props[attr[4:]]['set'] = value\n",
    "            elif attr.startswith('del_'):\n",
    "                props[attr[4:]]['del'] = value\n",
    "            else:\n",
    "                new_attrs[attr] = value\n",
    "        \n",
    "        for prop, value in props.items():\n",
    "            new_attrs[prop] = property(value['get'], value['set'], value['del'])\n",
    "        \n",
    "        return super(PropertyCreator, cls).__new__(cls, name, bases, new_attrs)"
   ]
  },
  {
   "cell_type": "markdown",
   "metadata": {},
   "source": [
    "#### Протестируйте свое решение"
   ]
  },
  {
   "cell_type": "code",
   "execution_count": 3,
   "metadata": {},
   "outputs": [
    {
     "name": "stdout",
     "output_type": "stream",
     "text": [
      "4\n",
      "Value must in condition: 3 <= value\n",
      "No more\n"
     ]
    }
   ],
   "source": [
    "def test_simple():\n",
    "    class TestPropertyCreator(metaclass=PropertyCreator):\n",
    "        def __init__(self, lo):\n",
    "            self.__x = None\n",
    "            self.lo = lo\n",
    "            \n",
    "        def get_x(self):\n",
    "            return self.__x\n",
    "\n",
    "        def set_x(self, value):\n",
    "            if value < self.lo:\n",
    "                raise ValueError(\"Value must in condition: {} <= value\".format(self.lo))\n",
    "            self.__x = value\n",
    "\n",
    "        def del_x(self):\n",
    "            self.__x = \"No more\"\n",
    "    \n",
    "    obj = TestPropertyCreator(3)\n",
    "    obj.x = 4\n",
    "    print(obj.x)\n",
    "    \n",
    "    try:\n",
    "        obj.x = 2\n",
    "    except ValueError as e:\n",
    "        print(e)\n",
    "    \n",
    "    del(obj.x)\n",
    "    print(obj.x)\n",
    "\n",
    "    \n",
    "test_simple()"
   ]
  },
  {
   "cell_type": "code",
   "execution_count": 4,
   "metadata": {},
   "outputs": [
    {
     "name": "stdout",
     "output_type": "stream",
     "text": [
      "0\n",
      "0\n",
      "['get', 'set', 'set', 'get']\n"
     ]
    }
   ],
   "source": [
    "def test_with_inheritance():\n",
    "    class TestPropertyCreator(metaclass=PropertyCreator):\n",
    "        pass\n",
    "\n",
    "    class TestPropertyCreatorInheritance(TestPropertyCreator):\n",
    "        def __init__(self):\n",
    "            self._secret_list = []\n",
    "\n",
    "        def get_x(self):\n",
    "            self._secret_list.append(\"get\")\n",
    "            return 0\n",
    "\n",
    "        def set_x(self, value):\n",
    "            self._secret_list.append(\"set\")\n",
    "    \n",
    "    obj = TestPropertyCreatorInheritance()\n",
    "    print(obj.x)\n",
    "    obj.x = 5\n",
    "    \n",
    "    try:\n",
    "        obj.x = 2\n",
    "    except ValueError as e:\n",
    "        print(e)\n",
    "    \n",
    "    print(obj.x)\n",
    "    print(obj._secret_list)\n",
    "    \n",
    "\n",
    "test_with_inheritance()"
   ]
  },
  {
   "cell_type": "code",
   "execution_count": 5,
   "metadata": {},
   "outputs": [
    {
     "name": "stdout",
     "output_type": "stream",
     "text": [
      "0\n",
      "0\n",
      "['set', 'get', 'set', 'get']\n",
      "can't set attribute\n"
     ]
    }
   ],
   "source": [
    "def test_partially_defined():\n",
    "    class TestPropertyCreator(metaclass=PropertyCreator):\n",
    "        def __init__(self):\n",
    "            self._secret_list = []\n",
    "\n",
    "        def get_x(self):\n",
    "            self._secret_list.append(\"get\")\n",
    "            return 0\n",
    "\n",
    "        def set_y(self, value):\n",
    "            self._secret_list.append(\"set\")\n",
    "            self._y = value\n",
    "        \n",
    "    obj = TestPropertyCreator()\n",
    "    obj.y = 2\n",
    "    print(obj.x)\n",
    "    \n",
    "    try:\n",
    "        obj.y = 3\n",
    "    except ValueError as e:\n",
    "        print(e)\n",
    "        \n",
    "    print(obj.x)\n",
    "    print(obj._secret_list)\n",
    "    \n",
    "    try:\n",
    "        obj.x = 3\n",
    "    except Exception as e:\n",
    "        print(e)\n",
    "    \n",
    "    \n",
    "test_partially_defined()"
   ]
  },
  {
   "cell_type": "code",
   "execution_count": 6,
   "metadata": {},
   "outputs": [
    {
     "name": "stdout",
     "output_type": "stream",
     "text": [
      "can't set attribute\n",
      "'TestPropertyCreator' object has no attribute '_boo'\n",
      "0\n",
      "1\n"
     ]
    }
   ],
   "source": [
    "def test_sanity():\n",
    "    class TestPropertyCreator(metaclass=PropertyCreator):\n",
    "        _text = 0\n",
    "        def get_raw_text(self):\n",
    "             return self._boo\n",
    "\n",
    "        def get_text(self):\n",
    "             return self._text % 2\n",
    "\n",
    "        def set_text(self, value):\n",
    "            try:\n",
    "                self._text = int(value)\n",
    "            except ValueError:\n",
    "                raise TypeError(\"unproper value for text: {}\".format(value))\n",
    "             \n",
    "    obj = TestPropertyCreator()\n",
    "    \n",
    "    try:\n",
    "        obj.raw_text = 'raw'\n",
    "    except Exception as e:\n",
    "        print(e)\n",
    "        \n",
    "    try:\n",
    "        print(obj.raw_text)\n",
    "    except Exception as e:\n",
    "        print(e)\n",
    "        \n",
    "    print(obj.text)\n",
    "    \n",
    "    obj.text = 11\n",
    "    print(obj.text)\n",
    "    \n",
    "\n",
    "test_sanity()"
   ]
  },
  {
   "cell_type": "code",
   "execution_count": 7,
   "metadata": {},
   "outputs": [
    {
     "name": "stdout",
     "output_type": "stream",
     "text": [
      "0\n",
      "1\n",
      "6\n"
     ]
    }
   ],
   "source": [
    "def test_multiple_usages():\n",
    "    class TestPropertyCreatorA(metaclass=PropertyCreator):\n",
    "        def get_x(self):\n",
    "            return 0\n",
    "    class TestPropertyCreatorB(metaclass=PropertyCreator):\n",
    "        def get_x(self):\n",
    "            return 1\n",
    "    class TestPropertyCreatorC(metaclass=PropertyCreator):\n",
    "        def set_x(self, value):\n",
    "            self.value = value + 1\n",
    "        def get_x(self):\n",
    "            return self.value\n",
    "    \n",
    "    obj_A = TestPropertyCreatorA()\n",
    "    obj_B = TestPropertyCreatorB()\n",
    "    obj_C = TestPropertyCreatorC()\n",
    "    \n",
    "    print(obj_A.x)\n",
    "    print(obj_B.x)\n",
    "    \n",
    "    obj_C.x = 5\n",
    "    print(obj_C.x)\n",
    "    \n",
    "test_multiple_usages()"
   ]
  },
  {
   "cell_type": "markdown",
   "metadata": {},
   "source": [
    "## 2. InstanceCountExceptioner (0.2 балла)\n",
    "Напишите метакласс InstanceCountExeptioner, который будет следить за количеством экземпляров класса, использующих его. Количество задается через поле класса \\_\\_max_instance\\_count\\_\\_. Т. е. число экземпляров каждого класса регулируется отдельно. Если в классе не указано поле \\_\\_max_instance\\_count\\_\\_, то используйте заранее заданное число в метаклассе (любое). Пример:\n",
    "\n",
    "<code>\n",
    "class TestInstanceCountExceptionerA(metaclass=InstanceCountExeptioner):\n",
    "    \\_\\_max_instance\\_count\\_\\_ = 2\n",
    "    def \\__init\\__(self, a):\n",
    "        self.a = a\n",
    "\n",
    "\n",
    "class TestInstanceCountExceptionerB(metaclass=InstanceCountExeptioner):\n",
    "    \\_\\_max_instance\\_count\\_\\_ = 1\n",
    "    def \\__init\\__(self, a):\n",
    "        self.a = a\n",
    "\n",
    "a_one = TestInstanceCountExceptionerA('one')\n",
    "a_two = TestInstanceCountExceptionerA('two')\n",
    "b_one = TestInstanceCountExceptionerB('one')\n",
    "\\# пока всё шло хорошо\n",
    "\n",
    "\\# а вот\n",
    "a_three = TestInstanceCountExceptionerA('three')\n",
    "\\# выкенет исключение InstanceCountException (ваше собственное исключение)\n",
    "</code>"
   ]
  },
  {
   "cell_type": "markdown",
   "metadata": {},
   "source": [
    "#### Решение"
   ]
  },
  {
   "cell_type": "code",
   "execution_count": 8,
   "metadata": {},
   "outputs": [],
   "source": [
    "from collections import Counter"
   ]
  },
  {
   "cell_type": "code",
   "execution_count": 9,
   "metadata": {},
   "outputs": [],
   "source": [
    "class InstanceCountException(Exception):\n",
    "    def __init__(self, *args, **kwargs):\n",
    "        Exception.__init__(self, *args, **kwargs)"
   ]
  },
  {
   "cell_type": "code",
   "execution_count": 10,
   "metadata": {},
   "outputs": [],
   "source": [
    "class InstanceCountExceptioner(type):\n",
    "    max_instance_count = defaultdict(int)\n",
    "    cnt = Counter()\n",
    "    \n",
    "    def __new__(cls, name, bases, attrs):\n",
    "        cls.cnt[name] = 0\n",
    "        cls.max_instance_count[name] = attrs.get('__max_instance_count__', 10)\n",
    "        return super(InstanceCountExceptioner, cls).__new__(cls, name, bases, attrs)\n",
    "        \n",
    "    def __call__(cls, *args, **kwargs):\n",
    "        name = cls.__name__\n",
    "        \n",
    "        if cls.max_instance_count[name] <= cls.cnt[name]:\n",
    "            raise InstanceCountException('Reached max number of instances')\n",
    "            \n",
    "        cls.cnt[name] += 1\n",
    "        return super(InstanceCountExceptioner, cls).__call__(*args, **kwargs)"
   ]
  },
  {
   "cell_type": "markdown",
   "metadata": {},
   "source": [
    "#### Протестируйте свое решение"
   ]
  },
  {
   "cell_type": "code",
   "execution_count": 11,
   "metadata": {},
   "outputs": [],
   "source": [
    "def test_simple():\n",
    "    \n",
    "    class TestInstanceCountExceptionerA(metaclass=InstanceCountExceptioner):\n",
    "        __max_instance_count__ = 2\n",
    "\n",
    "        def __init__(self):\n",
    "            self.a = 1\n",
    "\n",
    "        def get(self):\n",
    "            return self.a\n",
    "\n",
    "\n",
    "    class TestInstanceCountExceptionerB(metaclass=InstanceCountExceptioner):\n",
    "        __max_instance_count__ = 3\n",
    "\n",
    "        def __init__(self):\n",
    "            self.b = 2\n",
    "\n",
    "        def get(self):\n",
    "            return self.b\n",
    "        \n",
    "    a_one = TestInstanceCountExceptionerA()\n",
    "    b_one = TestInstanceCountExceptionerB()\n",
    "    \n",
    "    \n",
    "test_simple()"
   ]
  },
  {
   "cell_type": "code",
   "execution_count": 12,
   "metadata": {},
   "outputs": [
    {
     "name": "stdout",
     "output_type": "stream",
     "text": [
      "1\n",
      "2\n",
      "2\n",
      "3\n"
     ]
    }
   ],
   "source": [
    "def test_create():\n",
    "    class TestInstanceCountExceptionerA(metaclass=InstanceCountExceptioner):\n",
    "        __max_instance_count__ = 2\n",
    "\n",
    "        def __init__(self):\n",
    "            self.a = 1\n",
    "\n",
    "        def get(self):\n",
    "            return self.a\n",
    "\n",
    "\n",
    "    class TestInstanceCountExceptionerB(metaclass=InstanceCountExceptioner):\n",
    "        __max_instance_count__ = 3\n",
    "\n",
    "        def __init__(self):\n",
    "            self.b = 2\n",
    "\n",
    "        def get(self):\n",
    "            return self.b\n",
    "        \n",
    "    a_one = TestInstanceCountExceptionerA()\n",
    "    b_one = TestInstanceCountExceptionerB()\n",
    "    \n",
    "    print(a_one.get())\n",
    "    print(b_one.get())\n",
    "    print(a_one.__max_instance_count__)\n",
    "    print(b_one.__max_instance_count__)\n",
    "    \n",
    "    \n",
    "test_create()"
   ]
  },
  {
   "cell_type": "code",
   "execution_count": 13,
   "metadata": {},
   "outputs": [
    {
     "name": "stdout",
     "output_type": "stream",
     "text": [
      "1\n",
      "1\n",
      "Reached max number of instances\n"
     ]
    }
   ],
   "source": [
    "def test_fail_create_a():\n",
    "    class TestInstanceCountExceptionerA(metaclass=InstanceCountExceptioner):\n",
    "        __max_instance_count__ = 2\n",
    "\n",
    "        def __init__(self):\n",
    "            self.a = 1\n",
    "\n",
    "        def get(self):\n",
    "            return self.a\n",
    "\n",
    "\n",
    "    class TestInstanceCountExceptionerB(metaclass=InstanceCountExceptioner):\n",
    "        __max_instance_count__ = 3\n",
    "\n",
    "        def __init__(self):\n",
    "            self.b = 2\n",
    "\n",
    "        def get(self):\n",
    "            return self.b\n",
    "        \n",
    "    a_one = TestInstanceCountExceptionerA()\n",
    "    print(a_one.a)\n",
    "    \n",
    "    a_two = TestInstanceCountExceptionerA()\n",
    "    print(a_one.a)\n",
    "    \n",
    "    try:\n",
    "        a_three = TestInstanceCountExceptionerA()\n",
    "    except InstanceCountException as e:\n",
    "        print(e)\n",
    "        \n",
    "    \n",
    "test_fail_create_a()"
   ]
  },
  {
   "cell_type": "code",
   "execution_count": 14,
   "metadata": {},
   "outputs": [
    {
     "name": "stdout",
     "output_type": "stream",
     "text": [
      "2\n",
      "2\n",
      "2\n",
      "Reached max number of instances\n"
     ]
    }
   ],
   "source": [
    "def test_fail_create_b():\n",
    "    class TestInstanceCountExceptionerA(metaclass=InstanceCountExceptioner):\n",
    "        __max_instance_count__ = 2\n",
    "\n",
    "        def __init__(self):\n",
    "            self.a = 1\n",
    "\n",
    "        def get(self):\n",
    "            return self.a\n",
    "\n",
    "\n",
    "    class TestInstanceCountExceptionerB(metaclass=InstanceCountExceptioner):\n",
    "        __max_instance_count__ = 3\n",
    "\n",
    "        def __init__(self):\n",
    "            self.b = 2\n",
    "\n",
    "        def get(self):\n",
    "            return self.b\n",
    "        \n",
    "    b_one = TestInstanceCountExceptionerB()\n",
    "    print(b_one.b)\n",
    "    \n",
    "    b_two = TestInstanceCountExceptionerB()\n",
    "    print(b_one.b)\n",
    "    \n",
    "    b_three = TestInstanceCountExceptionerB()\n",
    "    print(b_one.b)\n",
    "    \n",
    "    try:\n",
    "        b_four = TestInstanceCountExceptionerB()\n",
    "    except InstanceCountException as e:\n",
    "        print(e)\n",
    "        \n",
    "    \n",
    "test_fail_create_b()"
   ]
  },
  {
   "cell_type": "markdown",
   "metadata": {},
   "source": [
    "## 3. JSONClassCreator (0.6 баллов)\n",
    "Напишите метакласс, который будет по json представлению строить новый класс и обратно. Класс должен уметь следующее:\n",
    "* Поддерживать сохранение и получение магических функций класса.\n",
    "* Поддерживать сохранение и получение обычных функций.\n",
    "* Поддерживать сохранение полей со стандартными типами.\n",
    "* Уберите из сохранения следующие поля и методы: ['\\_\\_dict\\_\\_', '\\_\\_weakref\\_\\_', '\\_\\_module\\_\\_', '\\_\\_init\\_\\_']\n",
    "* У создаваемого класса должна быть функция to_json_str\n",
    "\n",
    "Формат json строки должен быть следующий:\n",
    "\n",
    "<code>\n",
    "{\n",
    "    \"name\": название класса,\n",
    "    \"bases\": базовые классы,\n",
    "    \"methods\": методы класса,\n",
    "    \"attrs\": поля класса\n",
    "}\n",
    "</code>\n",
    "\n",
    "Рекомендации:\n",
    "* Для получения кода функций используйте модуль <a href=\"http://python-lab.ru/documentation/27/stdlib/inspect.html\">inspect</a>.\n",
    "* Для того, чтобы запустить код функций, можно использовать exec.\n",
    "* Можно не исправлять ошибку типа OSError: could not get source code - возникает для функций, полученных с помощью exec."
   ]
  },
  {
   "cell_type": "markdown",
   "metadata": {},
   "source": [
    "#### Пример использования"
   ]
  },
  {
   "cell_type": "code",
   "execution_count": null,
   "metadata": {},
   "outputs": [],
   "source": [
    "import json\n",
    "\n",
    "\n",
    "class ParentTest1(object):\n",
    "    pass\n",
    "\n",
    "class ParentTest2(object):\n",
    "    pass\n",
    "\n",
    "class Test(ParentTest1, ParentTest2):\n",
    "    \"\"\"Тестовый класс\"\"\"\n",
    "\n",
    "    val = [1, 2, 3]\n",
    "\n",
    "    def f(self, x):\n",
    "        print(x)\n",
    "    \n",
    "    def __repr__(self):\n",
    "        return \"Test(val={})\".format(self.val)\n",
    "\n",
    "    def __str__(self):\n",
    "        return \"Test(val={})\".format(self.val)\n",
    "\n",
    "    pass"
   ]
  },
  {
   "cell_type": "code",
   "execution_count": null,
   "metadata": {},
   "outputs": [],
   "source": [
    "print(*json.loads(JSONClassCreator.to_json_str(Test)).items(), sep=\"\\n\")"
   ]
  },
  {
   "cell_type": "code",
   "execution_count": null,
   "metadata": {},
   "outputs": [],
   "source": [
    "tmp = JSONClassCreator(JSONClassCreator.to_json_str(Test))"
   ]
  },
  {
   "cell_type": "code",
   "execution_count": null,
   "metadata": {},
   "outputs": [],
   "source": [
    "tmp_obj = tmp()\n",
    "tmp_obj, tmp_obj.f(\"hi\"), tmp.val, tmp.__doc__"
   ]
  },
  {
   "cell_type": "code",
   "execution_count": null,
   "metadata": {},
   "outputs": [],
   "source": [
    "tmp.__dict__"
   ]
  },
  {
   "cell_type": "markdown",
   "metadata": {},
   "source": [
    "#### Решение"
   ]
  },
  {
   "cell_type": "code",
   "execution_count": null,
   "metadata": {},
   "outputs": [],
   "source": [
    "import inspect\n",
    "\n",
    "\n",
    "class JSONClassCreator(type):\n",
    "    def __new__(mcls, json_str):\n",
    "        <your code here>\n",
    "\n",
    "    def to_json_str(cls):\n",
    "        exclude = ['__dict__', '__weakref__', '__module__', '__init__']\n",
    "        <your code here>\n",
    "\n",
    "        return json.dumps({\n",
    "            \"name\": <your code here>,\n",
    "            \"bases\": <your code here>,\n",
    "            \"methods\": <your code here>,\n",
    "            \"attrs\": <your code here>\n",
    "        })\n",
    "\n",
    "    pass\n"
   ]
  },
  {
   "cell_type": "markdown",
   "metadata": {},
   "source": [
    "#### Проверьте свое решение на примере"
   ]
  },
  {
   "cell_type": "code",
   "execution_count": null,
   "metadata": {},
   "outputs": [],
   "source": []
  }
 ],
 "metadata": {
  "kernelspec": {
   "display_name": "Python 3",
   "language": "python",
   "name": "python3"
  },
  "language_info": {
   "codemirror_mode": {
    "name": "ipython",
    "version": 3
   },
   "file_extension": ".py",
   "mimetype": "text/x-python",
   "name": "python",
   "nbconvert_exporter": "python",
   "pygments_lexer": "ipython3",
   "version": "3.7.4"
  }
 },
 "nbformat": 4,
 "nbformat_minor": 2
}
