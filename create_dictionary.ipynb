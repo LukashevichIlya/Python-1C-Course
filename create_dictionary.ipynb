{
 "cells": [
  {
   "cell_type": "markdown",
   "metadata": {},
   "source": [
    "# Create_dict"
   ]
  },
  {
   "cell_type": "markdown",
   "metadata": {},
   "source": [
    "Реализовать функцию, которая имеет один позициональный (texts) и один необязательный keyword аргумент (dictionary). Вернуть функция должна обновленный словарь слов dictionary, где каждому слову соответствует его уникальный индекс. При этом возвращается в функции всегда второй аргумент."
   ]
  },
  {
   "cell_type": "code",
   "execution_count": 1,
   "metadata": {},
   "outputs": [],
   "source": [
    "def create_dict(texts, dictionary=None):\n",
    "    if dictionary is None:\n",
    "        dictionary = dict()\n",
    "    \n",
    "    for text in texts:\n",
    "        for word in text.split(' '):\n",
    "            if dictionary.get(word) is None:\n",
    "                dictionary[word] = len(dictionary)\n",
    "    \n",
    "    return dictionary"
   ]
  },
  {
   "cell_type": "code",
   "execution_count": 2,
   "metadata": {},
   "outputs": [
    {
     "name": "stdout",
     "output_type": "stream",
     "text": [
      "{'Чо,': 0, 'как': 1}\n"
     ]
    }
   ],
   "source": [
    "d1 = create_dict([\"Чо, как\"])\n",
    "print(d1)"
   ]
  },
  {
   "cell_type": "code",
   "execution_count": 3,
   "metadata": {},
   "outputs": [
    {
     "name": "stdout",
     "output_type": "stream",
     "text": [
      "{'Чо,': 0, 'как': 1, 'Чо': 2, ',': 3, 'нормально': 4, 'а': 5, 'ти': 6} True\n"
     ]
    }
   ],
   "source": [
    "d2 = create_dict([\"Чо , как\", \"нормально а ти Чо\"], d1)\n",
    "print(d2, d1 is d2)"
   ]
  }
 ],
 "metadata": {
  "kernelspec": {
   "display_name": "Python 3",
   "language": "python",
   "name": "python3"
  },
  "language_info": {
   "codemirror_mode": {
    "name": "ipython",
    "version": 3
   },
   "file_extension": ".py",
   "mimetype": "text/x-python",
   "name": "python",
   "nbconvert_exporter": "python",
   "pygments_lexer": "ipython3",
   "version": "3.7.4"
  }
 },
 "nbformat": 4,
 "nbformat_minor": 2
}
