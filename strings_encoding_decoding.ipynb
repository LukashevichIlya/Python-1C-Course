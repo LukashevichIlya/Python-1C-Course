{
 "cells": [
  {
   "cell_type": "markdown",
   "metadata": {},
   "source": [
    "# Часть 1 - строки\n",
    "## 1. Передача данных (0.5)"
   ]
  },
  {
   "cell_type": "markdown",
   "metadata": {},
   "source": [
    "Для передачи разного рода информации внутри текстовых данных (в частности, с помощью электронной почты), а именно: текст на языках, для которых используются кодировки, отличные от ASCII, и нетекстовые данные, такие, как картинки, музыка, фильмы и программы существуют разные алгоритмы кодирования информации. Вам необходимо реализовать кодирование текстовых последовательностей следующим образом.\n",
    "#### Кодирование (0.2)\n",
    "Возьмем текст русский текст «АБВГД». В двоичной форме в кодировке Windows-1251 мы получим 5 байтов:\n",
    "\n",
    "11000000, 11000001, 11000010, 11000011, 11000100, (00000000) — лишний нулевой байт нужен, чтобы общее число бит делилось на 6.\n",
    "\n",
    "Разделим эти биты на группы по 6:\n",
    "\n",
    "110000, 001100, 000111, 000010, 110000, 111100, 010000, 000000.\n",
    "\n",
    "Берем массив символов\n",
    "\n",
    "«ABCDEFGHIJKLMNOPQRSTUVWXYZabcdefghijklmnopqrstuvwxyz0123456789+/»\n",
    "\n",
    "и получившиеся числа переводим в эти символы, используя их, как  индексы массива, получаем «wMHCw8Q». Остается только добавить в конце один символ \"=\", как указание на один лишний нулевой байт, который мы добавляли на первом шаге и получить окончательный результат:\n",
    "\n",
    "«АБВГД»: base64 = «wMHCw8Q=».\n",
    "\n",
    "В общем случае для того, чтобы преобразовать данные, первый байт\n",
    "помещается в самые старшие восемь бит 24-битного буфера, следующий — в\n",
    "средние восемь и третий — в младшие значащие восемь бит. Если\n",
    "кодируется менее чем три байта, то соответствующие биты буфера\n",
    "устанавливаются в ноль. Далее каждые шесть бит буфера, начиная с самых\n",
    "старших, используются как индексы строки\n",
    "\n",
    "«ABCDEFGHIJKLMNOPQRSTUVWXYZabcdefghijklmnopqrstuvwxyz0123456789+/»\n",
    "\n",
    "и её символы, на которые указывают индексы, помещаются в\n",
    "выходную строку. Если кодируются только один или два байта, в результате\n",
    "получаются только первые два или три символа строки, а выходная строка\n",
    "дополняется двумя или одним символами «=». Это предотвращает\n",
    "добавление дополнительных битов к восстановленным данным. Процесс\n",
    "повторяется над оставшимися входными данными.\n",
    "#### Декодирование (0.2)\n",
    "С декодированием практически также легко. По сути это обратная операция\n",
    "кодированию. Последовательность символов, полученных при конвертации\n",
    "байт, мы разбиваем на ровные группы по 4. Затем каждый символ в\n",
    "соответствии с алфавитом кодирования мы получаем цифровой порядковый\n",
    "индекс (номер), каждое подобное значения мы конвертируем в двоичную\n",
    "систему (6 бит) и получаем 24 бита, которые делим на уже три части и это\n",
    "будут наши первоначальные байты информации. Повторить до конечного результата.\n",
    "#### Протестируйте результат (0.1)\n",
    "Протестируйте реализацию на 5-10 строках из ваших любимых текстов. Сравните результат с библиотекой base64."
   ]
  },
  {
   "cell_type": "code",
   "execution_count": 1,
   "metadata": {},
   "outputs": [],
   "source": [
    "import string\n",
    "import base64"
   ]
  },
  {
   "cell_type": "code",
   "execution_count": 2,
   "metadata": {},
   "outputs": [],
   "source": [
    "STRING = string.ascii_uppercase + string.ascii_lowercase + string.digits + \"+/\""
   ]
  },
  {
   "cell_type": "code",
   "execution_count": 3,
   "metadata": {},
   "outputs": [],
   "source": [
    "class EncodeDecodeWin1251:\n",
    "\n",
    "    @staticmethod\n",
    "    def encode(strings):\n",
    "        bytes_list = list(map(lambda byte: format(byte, '08b'), strings.encode('windows-1251')))\n",
    "        num_bytes_to_add = (3 - (len(strings) % 3)) % 3\n",
    "        bits_string = \"\".join(bytes_list) + (num_bytes_to_add * 8 * '0')\n",
    "        \n",
    "        index = len(bits_string) - 6 * num_bytes_to_add\n",
    "        encoded_string = \"\".join([STRING[int(bits_string[i:i+6], base=2)] for i in range(0, index, 6)]) \\\n",
    "        + num_bytes_to_add * '='\n",
    "        \n",
    "        return bytes(encoded_string, encoding='windows-1251')\n",
    "    \n",
    "    @staticmethod\n",
    "    def decode(encoded_bytes):\n",
    "        encoded_string = encoded_bytes.decode('windows-1251')\n",
    "        initial_bytes_list = []\n",
    "        \n",
    "        for idx in range(0, len(encoded_string), 4):\n",
    "            batch_bytes_list = [format(EncodeDecodeWin1251.get_index(symbol), '06b')\n",
    "                                for symbol in encoded_string[idx:idx+4]]\n",
    "            batch_bytes = \"\".join(batch_bytes_list)\n",
    "        \n",
    "            initial_bytes_list.extend([int(batch_bytes[i:i+8], base=2)\n",
    "                                       for i in range(0, len(batch_bytes), 8)])\n",
    "        \n",
    "        initial_bytes_list = list(filter(lambda x: x>0, initial_bytes_list))\n",
    "        return bytes(initial_bytes_list).decode('windows-1251')\n",
    "        \n",
    "    @staticmethod\n",
    "    def get_index(symbol):\n",
    "        if symbol == '=':\n",
    "            return 0\n",
    "        else: \n",
    "            return STRING.index(symbol)"
   ]
  },
  {
   "cell_type": "code",
   "execution_count": 4,
   "metadata": {},
   "outputs": [],
   "source": [
    "texts = ['Сегодня лекции по слупам не будет',\n",
    "        'Ребята, правильно ли я понимаю, что таблица со случайными процессами актуальная и мы можем закрыть этот вопрос.',\n",
    "        'Осталось совсем немного времени, чтобы податься на Стартап-трек! Поторопитесь, в некоторых проектах очень нужны студенты.', \n",
    "        'Друзья, пожалуйста, перестаньте писать с просьбой заменить курс по выбору на кафедральный. На кафедре можно выбирать курсы.',\n",
    "        'Экспресс-опрос на тему того, что именно вас сегодня заинтересовало']"
   ]
  },
  {
   "cell_type": "code",
   "execution_count": 5,
   "metadata": {},
   "outputs": [
    {
     "name": "stdout",
     "output_type": "stream",
     "text": [
      "My own encoding: b'0eXj7uTt/yDr5er26Ogg7+4g8evz7+DsIO3lIOHz5OXy'\n",
      "base64 encoding: b'0eXj7uTt/yDr5er26Ogg7+4g8evz7+DsIO3lIOHz5OXy'\n",
      "Result of decoding an incoded text: Сегодня лекции по слупам не будет\n",
      "Check if the decoding of incoded text is correct: True\n",
      "\n",
      "My own encoding: b'0OXh//LgLCDv8ODi6Ov87e4g6+gg/yDv7u3o7OD+LCD38u4g8uDh6+j24CDx7iDx6/P34Ont++zoIO/w7vbl8fHg7Ogg4Ory8+Dr/O3g/yDoIOz7IOzu5uXsIOfg6vD78vwg/fLu8iDi7u/w7vEu'\n",
      "base64 encoding: b'0OXh//LgLCDv8ODi6Ov87e4g6+gg/yDv7u3o7OD+LCD38u4g8uDh6+j24CDx7iDx6/P34Ont++zoIO/w7vbl8fHg7Ogg4Ory8+Dr/O3g/yDoIOz7IOzu5uXsIOfg6vD78vwg/fLu8iDi7u/w7vEu'\n",
      "Result of decoding an incoded text: Ребята, правильно ли я понимаю, что таблица со случайными процессами актуальная и мы можем закрыть этот вопрос.\n",
      "Check if the decoding of incoded text is correct: True\n",
      "\n",
      "My own encoding: b'zvHy4Ovu8fwg8e7i8eXsIO3l7O3u4+4g4vDl7OXt6Cwg9/Lu4fsg7+7k4PL88f8g7eAg0fLg8PLg7y3y8OXqISDP7vLu8O7v6PLl8fwsIOIg7eXq7vLu8Pv1IO/w7uXq8uD1IO735e38IO3z5u37IPHy8+Tl7fL7Lg=='\n",
      "base64 encoding: b'zvHy4Ovu8fwg8e7i8eXsIO3l7O3u4+4g4vDl7OXt6Cwg9/Lu4fsg7+7k4PL88f8g7eAg0fLg8PLg7y3y8OXqISDP7vLu8O7v6PLl8fwsIOIg7eXq7vLu8Pv1IO/w7uXq8uD1IO735e38IO3z5u37IPHy8+Tl7fL7Lg=='\n",
      "Result of decoding an incoded text: Осталось совсем немного времени, чтобы податься на Стартап-трек! Поторопитесь, в некоторых проектах очень нужны студенты.\n",
      "Check if the decoding of incoded text is correct: True\n",
      "\n",
      "My own encoding: b'xPDz5/z/LCDv7ubg6/Pp8fLgLCDv5fDl8fLg7fzy5SDv6PHg8vwg8SDv8O7x/OHu6SDn4Ozl7ejy/CDq8/DxIO/uIOL74e7w8yDt4CDq4PTl5PDg6/zt++kuIM3gIOrg9OXk8OUg7O7m7e4g4vvh6PDg8vwg6vPw8fsu'\n",
      "base64 encoding: b'xPDz5/z/LCDv7ubg6/Pp8fLgLCDv5fDl8fLg7fzy5SDv6PHg8vwg8SDv8O7x/OHu6SDn4Ozl7ejy/CDq8/DxIO/uIOL74e7w8yDt4CDq4PTl5PDg6/zt++kuIM3gIOrg9OXk8OUg7O7m7e4g4vvh6PDg8vwg6vPw8fsu'\n",
      "Result of decoding an incoded text: Друзья, пожалуйста, перестаньте писать с просьбой заменить курс по выбору на кафедральный. На кафедре можно выбирать курсы.\n",
      "Check if the decoding of incoded text is correct: True\n",
      "\n",
      "My own encoding: b'3erx7/Dl8fEt7u/w7vEg7eAg8uXs8yDy7uPuLCD38u4g6Ozl7e3uIOLg8SDx5ePu5O3/IOfg6O3y5fDl8e7i4Ovu'\n",
      "base64 encoding: b'3erx7/Dl8fEt7u/w7vEg7eAg8uXs8yDy7uPuLCD38u4g6Ozl7e3uIOLg8SDx5ePu5O3/IOfg6O3y5fDl8e7i4Ovu'\n",
      "Result of decoding an incoded text: Экспресс-опрос на тему того, что именно вас сегодня заинтересовало\n",
      "Check if the decoding of incoded text is correct: True\n",
      "\n"
     ]
    }
   ],
   "source": [
    "for text in texts:\n",
    "    print(\"My own encoding: {}\".format(EncodeDecodeWin1251.encode(text)))\n",
    "    print(\"base64 encoding: {}\".format(base64.b64encode(text.encode('windows-1251'))))\n",
    "    print(\"Result of decoding an incoded text: {}\".format(\n",
    "        EncodeDecodeWin1251.decode(EncodeDecodeWin1251.encode(text))))\n",
    "    print(\"Check if the decoding of incoded text is correct: {}\\n\".format(\n",
    "        EncodeDecodeWin1251.decode(EncodeDecodeWin1251.encode(text)) == text))"
   ]
  }
 ],
 "metadata": {
  "kernelspec": {
   "display_name": "Python 3",
   "language": "python",
   "name": "python3"
  },
  "language_info": {
   "codemirror_mode": {
    "name": "ipython",
    "version": 3
   },
   "file_extension": ".py",
   "mimetype": "text/x-python",
   "name": "python",
   "nbconvert_exporter": "python",
   "pygments_lexer": "ipython3",
   "version": "3.7.4"
  }
 },
 "nbformat": 4,
 "nbformat_minor": 2
}
