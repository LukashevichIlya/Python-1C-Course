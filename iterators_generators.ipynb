{
 "cells": [
  {
   "cell_type": "markdown",
   "metadata": {},
   "source": [
    "# Задание 4"
   ]
  },
  {
   "cell_type": "markdown",
   "metadata": {},
   "source": [
    "## 1. Chainer (0.4 балла)\n",
    "\n",
    "Требуется реализовать функцию chainer, которая принимает на вход любое количество итерируемых объектов (в т.ч. контейнеров, которые тоже могут содержать итерируемые объекты) и возвращает список из всех элементов всех переданных контейнеров."
   ]
  },
  {
   "cell_type": "code",
   "execution_count": 1,
   "metadata": {},
   "outputs": [],
   "source": [
    "def check_if_iterable(item):\n",
    "    try:\n",
    "        it = iter(item)\n",
    "        return len(item) > 1 or not isinstance(item, str)\n",
    "    except TypeError as te:\n",
    "        return False\n",
    "\n",
    "def chainer(*args):\n",
    "    answer = []\n",
    "    \n",
    "    def flatten(iterable):\n",
    "        \n",
    "        def get_item(item):\n",
    "            \n",
    "            if check_if_iterable(item):\n",
    "                flatten(item)\n",
    "            else:\n",
    "                answer.append(item)\n",
    "        \n",
    "        list(map(get_item, iterable))\n",
    "    \n",
    "    flatten(args)\n",
    "    return answer"
   ]
  },
  {
   "cell_type": "markdown",
   "metadata": {},
   "source": [
    "Пример работы функции:"
   ]
  },
  {
   "cell_type": "code",
   "execution_count": 2,
   "metadata": {},
   "outputs": [
    {
     "data": {
      "text/plain": [
       "[1,\n",
       " 2,\n",
       " 3,\n",
       " 'w',\n",
       " 'h',\n",
       " 'y',\n",
       " 'i',\n",
       " ' ',\n",
       " 'n',\n",
       " 'e',\n",
       " 'e',\n",
       " 'd',\n",
       " 'd',\n",
       " 'o',\n",
       " ' ',\n",
       " 't',\n",
       " 'h',\n",
       " 'a',\n",
       " 't',\n",
       " '?']"
      ]
     },
     "execution_count": 2,
     "metadata": {},
     "output_type": "execute_result"
    }
   ],
   "source": [
    "chainer([1, 2, 3], \"why\", [\"i need\", [\"do that\", [\"?\"]]])"
   ]
  },
  {
   "cell_type": "markdown",
   "metadata": {},
   "source": [
    "При этом запрещается использовать в коде конструкции циклов while и for."
   ]
  },
  {
   "cell_type": "markdown",
   "metadata": {},
   "source": [
    "## 2. Dataflow (0.6 балла)\n",
    "\n",
    "В данном задании требуется написать обработчик генераторов, вычисляющих факториал. Для каждого генератора должна быть функция декоратор, которая инициализирует генератор."
   ]
  },
  {
   "cell_type": "code",
   "execution_count": 3,
   "metadata": {},
   "outputs": [],
   "source": [
    "from functools import wraps, reduce"
   ]
  },
  {
   "cell_type": "code",
   "execution_count": 4,
   "metadata": {},
   "outputs": [],
   "source": [
    "def coroutine(func):\n",
    "    \n",
    "    @wraps(func)\n",
    "    def wrapper(*args, **kwargs):\n",
    "        generator = func(*args, **kwargs)\n",
    "        generator.send(None)\n",
    "        return generator\n",
    "    \n",
    "    return wrapper"
   ]
  },
  {
   "cell_type": "markdown",
   "metadata": {},
   "source": [
    "Функция генератор факториалов принимает на вход n - максимальный факториал, который может вычислить (n!)."
   ]
  },
  {
   "cell_type": "code",
   "execution_count": 5,
   "metadata": {},
   "outputs": [],
   "source": [
    "@coroutine\n",
    "def fact_generator(n):\n",
    "    res = 1\n",
    "    multiplier = 0\n",
    "    \n",
    "    while multiplier <= n:\n",
    "        value = yield res\n",
    "        if value is None:\n",
    "            multiplier += 1\n",
    "            res *= multiplier\n",
    "        else:\n",
    "            if value > multiplier:\n",
    "                res *= reduce(lambda x, y: x * y, range(multiplier + 1, value + 1))\n",
    "                multiplier = value\n",
    "            else:\n",
    "                raise StopIteration"
   ]
  },
  {
   "cell_type": "markdown",
   "metadata": {},
   "source": [
    "Пример:\n",
    "\n",
    "f10 = fact_generator(10)\n",
    "\n",
    "создает генератор, который при каждом вызове next(f10) возвращает текущее значение факториала, т. е.\n",
    "\n",
    "next(f10) # вернет 1\n",
    "\n",
    "next(f10) # вернет 2\n",
    "\n",
    "next(f10) # вернет 6\n",
    "\n",
    "...\n"
   ]
  },
  {
   "cell_type": "markdown",
   "metadata": {},
   "source": [
    "При этом должен быть реализован функционал, который позволяет послать значение z в генератор и должно вернуться соответствующее значение факториала последовательным применением функции next. Если это невозможно (генератор исчерпался), должно быть выведено сообщение об этом и последнее возможное значение факториала.\n",
    "\n",
    "Данный функционал должен быть реализован в классе GeneratorManeger:"
   ]
  },
  {
   "cell_type": "code",
   "execution_count": 6,
   "metadata": {},
   "outputs": [],
   "source": [
    "class GeneratorManager:\n",
    "    \n",
    "    class Generator:\n",
    "        \n",
    "        def __init__(self, generator, max_value=1):\n",
    "            self.generator = generator(max_value)\n",
    "            self.max_value = max_value\n",
    "            self.counter = 0\n",
    "        \n",
    "        def __next__(self):\n",
    "            self.counter += 1\n",
    "            return next(self.generator)\n",
    "        \n",
    "        def __call__(self):\n",
    "            return self\n",
    "        \n",
    "        def __iter__(self):\n",
    "            return self\n",
    "        \n",
    "        def send(self, value):\n",
    "            return self.generator.send(value)\n",
    "            \n",
    "            \n",
    "    def __init__(self, *fact_desc):\n",
    "        self.generators = [GeneratorManager.Generator(fact_generator, value) for value in fact_desc]\n",
    "    \n",
    "    def send(self, z):\n",
    "        matching_generator = None\n",
    "        \n",
    "        for gen in self.generators:\n",
    "            if gen.counter < z <= gen.max_value:\n",
    "                matching_generator = gen\n",
    "                break\n",
    "        if matching_generator is None:\n",
    "            print(\"There isn't a suitable generator!\")\n",
    "            return None\n",
    "        matching_generator.counter = z\n",
    "        return matching_generator.send(z)"
   ]
  },
  {
   "cell_type": "markdown",
   "metadata": {},
   "source": [
    "fact_desc - это список из чисел $n_i$ для каждого из которых создается свой генератор fact_generator($n_i$) и сохраняется в классе GeneratorManeger.\n",
    "\n",
    "send должна выбрать любой генератор из еще не исчерпавшихся и вычислить значение факториала. Если таких нет, сообщить об этом.\n",
    "\n",
    "Пример работы:"
   ]
  },
  {
   "cell_type": "code",
   "execution_count": 7,
   "metadata": {},
   "outputs": [],
   "source": [
    "gm = GeneratorManager(3, 6)"
   ]
  },
  {
   "cell_type": "code",
   "execution_count": 8,
   "metadata": {},
   "outputs": [
    {
     "data": {
      "text/plain": [
       "6"
      ]
     },
     "execution_count": 8,
     "metadata": {},
     "output_type": "execute_result"
    }
   ],
   "source": [
    "gm.send(3)"
   ]
  },
  {
   "cell_type": "code",
   "execution_count": 9,
   "metadata": {},
   "outputs": [
    {
     "data": {
      "text/plain": [
       "6"
      ]
     },
     "execution_count": 9,
     "metadata": {},
     "output_type": "execute_result"
    }
   ],
   "source": [
    "gm.send(3)"
   ]
  },
  {
   "cell_type": "code",
   "execution_count": 10,
   "metadata": {},
   "outputs": [
    {
     "name": "stdout",
     "output_type": "stream",
     "text": [
      "There isn't a suitable generator!\n"
     ]
    }
   ],
   "source": [
    "gm.send(3)"
   ]
  },
  {
   "cell_type": "code",
   "execution_count": 11,
   "metadata": {},
   "outputs": [
    {
     "data": {
      "text/plain": [
       "120"
      ]
     },
     "execution_count": 11,
     "metadata": {},
     "output_type": "execute_result"
    }
   ],
   "source": [
    "gm.send(5)"
   ]
  },
  {
   "cell_type": "code",
   "execution_count": 12,
   "metadata": {},
   "outputs": [
    {
     "data": {
      "text/plain": [
       "720"
      ]
     },
     "execution_count": 12,
     "metadata": {},
     "output_type": "execute_result"
    }
   ],
   "source": [
    "gm.send(6)"
   ]
  },
  {
   "cell_type": "code",
   "execution_count": 13,
   "metadata": {},
   "outputs": [
    {
     "name": "stdout",
     "output_type": "stream",
     "text": [
      "There isn't a suitable generator!\n"
     ]
    }
   ],
   "source": [
    "gm.send(1)"
   ]
  }
 ],
 "metadata": {
  "kernelspec": {
   "display_name": "Python 3",
   "language": "python",
   "name": "python3"
  },
  "language_info": {
   "codemirror_mode": {
    "name": "ipython",
    "version": 3
   },
   "file_extension": ".py",
   "mimetype": "text/x-python",
   "name": "python",
   "nbconvert_exporter": "python",
   "pygments_lexer": "ipython3",
   "version": "3.7.4"
  }
 },
 "nbformat": 4,
 "nbformat_minor": 2
}
