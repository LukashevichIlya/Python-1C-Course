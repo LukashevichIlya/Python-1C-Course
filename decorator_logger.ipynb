{
 "cells": [
  {
   "cell_type": "markdown",
   "metadata": {},
   "source": [
    "## Декоратор @Logger\n",
    "\n",
    "Напишите полноценный logger для вызовов вашей функции. Декоратор должен иметь следующие опции:\n",
    "\n",
    "* Выбор файла в который будет производиться запись: sys.stdout, sys.stderr, локальный файл (передается путь к файлу, если файла нет, то создать, иначе дописывать в конец).\n",
    "* Формат записи в логера: \"<i>index data time functio_name \\*args \\**kwargs result</i>\"\n",
    "* Логер должен быть один для всех функций.\n",
    "\n",
    "<b>Рекомендации:</b>\n",
    "\n",
    "* Декорируйте wrapper с @functools.wraps(func)\n",
    "* Создайте отдельный класс Logger для работы с выводом данных вызовов функций в файл."
   ]
  },
  {
   "cell_type": "code",
   "execution_count": 1,
   "metadata": {},
   "outputs": [],
   "source": [
    "import sys\n",
    "import datetime\n",
    "import functools"
   ]
  },
  {
   "cell_type": "code",
   "execution_count": 2,
   "metadata": {},
   "outputs": [],
   "source": [
    "def singleton(cls):\n",
    "    instance = None\n",
    "    \n",
    "    @functools.wraps(cls)\n",
    "    def wrapper(*args, **kwargs):\n",
    "        nonlocal instance\n",
    "        if instance is None:\n",
    "            instance = cls(*args, **kwargs)\n",
    "        return instance\n",
    "    return wrapper"
   ]
  },
  {
   "cell_type": "code",
   "execution_count": 3,
   "metadata": {},
   "outputs": [],
   "source": [
    "@singleton\n",
    "class SingleLogger:\n",
    "    \n",
    "    def __init__(self):\n",
    "        self.index = 0\n",
    "    \n",
    "    def __call__(self, func, dest, *args, **kwargs):\n",
    "        if dest in [sys.stdout, sys.stderr]:\n",
    "            self.out = dest\n",
    "        else:\n",
    "            self.out = open(dest, 'a')\n",
    "            \n",
    "        try:\n",
    "            func_out = func(*args, **kwargs)\n",
    "        except Exception as e:\n",
    "            self._write(func.__name__, str(e), *args, **kwargs)\n",
    "            raise\n",
    "        self._write(func.__name__, func_out, *args, **kwargs)\n",
    "        self.index += 1\n",
    "        return func_out\n",
    "    \n",
    "    def __del__(self):\n",
    "        self.out.close()\n",
    "        \n",
    "    def _write(self, func_name, func_out, *args, **kwargs):\n",
    "        self.out.write('index: {} datetime: {} func_name: {} args: {} kwargs: {} result: {}'.format(\n",
    "            self.index, datetime.datetime.now(), func_name, args, kwargs, func_out))"
   ]
  },
  {
   "cell_type": "code",
   "execution_count": 4,
   "metadata": {},
   "outputs": [],
   "source": [
    "def logger(dest):\n",
    "    log = SingleLogger()\n",
    "    \n",
    "    def wrapped(func):\n",
    "        @functools.wraps(func)\n",
    "        def wrapper(*args, **kwargs):\n",
    "            return log(func, dest, *args, **kwargs)\n",
    "        return wrapper\n",
    "    return wrapped"
   ]
  },
  {
   "cell_type": "markdown",
   "metadata": {},
   "source": [
    "Проверим работу декоратора."
   ]
  },
  {
   "cell_type": "code",
   "execution_count": 5,
   "metadata": {},
   "outputs": [],
   "source": [
    "@logger(sys.stdout)\n",
    "def test_stdout(a, b, c):\n",
    "    return str(a) + ' ' + str(b) + ' ' + str(c) "
   ]
  },
  {
   "cell_type": "code",
   "execution_count": 6,
   "metadata": {},
   "outputs": [
    {
     "name": "stdout",
     "output_type": "stream",
     "text": [
      "index: 0 datetime: 2020-05-12 20:01:26.688315 func_name: test_stdout args: ('I', 2, 3) kwargs: {} result: I 2 3"
     ]
    }
   ],
   "source": [
    "res = test_stdout('I', 2, 3)"
   ]
  },
  {
   "cell_type": "code",
   "execution_count": 7,
   "metadata": {},
   "outputs": [],
   "source": [
    "@logger(sys.stderr)\n",
    "def test_stderr(*args, **kwargs):\n",
    "    return len(args)"
   ]
  },
  {
   "cell_type": "code",
   "execution_count": 8,
   "metadata": {},
   "outputs": [
    {
     "name": "stderr",
     "output_type": "stream",
     "text": [
      "index: 1 datetime: 2020-05-12 20:01:26.700488 func_name: test_stderr args: (2, 5, 7) kwargs: {} result: 3"
     ]
    }
   ],
   "source": [
    "res = test_stderr(2, 5, 7)"
   ]
  },
  {
   "cell_type": "code",
   "execution_count": 9,
   "metadata": {},
   "outputs": [],
   "source": [
    "@logger('test.txt')\n",
    "def test_file(*args, **kwargs):\n",
    "    return len(kwargs)"
   ]
  },
  {
   "cell_type": "code",
   "execution_count": 10,
   "metadata": {},
   "outputs": [
    {
     "name": "stdout",
     "output_type": "stream",
     "text": [
      "2\n"
     ]
    }
   ],
   "source": [
    "res = test_file(a=1, b=3)\n",
    "print(res)"
   ]
  }
 ],
 "metadata": {
  "kernelspec": {
   "display_name": "Python 3",
   "language": "python",
   "name": "python3"
  },
  "language_info": {
   "codemirror_mode": {
    "name": "ipython",
    "version": 3
   },
   "file_extension": ".py",
   "mimetype": "text/x-python",
   "name": "python",
   "nbconvert_exporter": "python",
   "pygments_lexer": "ipython3",
   "version": "3.7.4"
  }
 },
 "nbformat": 4,
 "nbformat_minor": 2
}
