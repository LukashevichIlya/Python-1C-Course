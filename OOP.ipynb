{
 "cells": [
  {
   "cell_type": "markdown",
   "metadata": {},
   "source": [
    "# Часть 2 - ООП 1"
   ]
  },
  {
   "cell_type": "markdown",
   "metadata": {},
   "source": [
    "## 2. CounterGetter (0.1 балл)\n",
    "Реализуйте класс CounterGetter, который на вход принимает произвольное количество именованых аргументов и считает количество обращений к полям и методам класса во всех экземплярах."
   ]
  },
  {
   "cell_type": "code",
   "execution_count": 1,
   "metadata": {},
   "outputs": [],
   "source": [
    "from collections import defaultdict"
   ]
  },
  {
   "cell_type": "code",
   "execution_count": 2,
   "metadata": {},
   "outputs": [],
   "source": [
    "class CounterGetter(object):\n",
    "    counter = defaultdict(int)\n",
    "    \n",
    "    def __init__(self, **kwargs):\n",
    "        self.__dict__.update(kwargs)\n",
    "        for key in kwargs:\n",
    "            # если мы считаем, что при создании экземпляра класса с полем, которое уже есть у какого-либо\n",
    "            # экземпляра класса до этого, счетчик обращений не должен меняться, то нужно условие ниже\n",
    "            # (иначе его можно убрать)\n",
    "            if key not in CounterGetter.counter:\n",
    "                CounterGetter.counter[key] += 1\n",
    "    \n",
    "    def __setattr__(self, name, value):\n",
    "        CounterGetter.counter[name] += 1\n",
    "        self.__dict__[name] = value\n",
    "        return super(CounterGetter, self).__setattr__(name, value)\n",
    "        \n",
    "    def __getattribute__(self, name):\n",
    "        CounterGetter.counter[name] += 1\n",
    "        return super(CounterGetter, self).__getattribute__(name)"
   ]
  },
  {
   "cell_type": "markdown",
   "metadata": {},
   "source": [
    "Проверим работу класса."
   ]
  },
  {
   "cell_type": "code",
   "execution_count": 3,
   "metadata": {},
   "outputs": [
    {
     "data": {
      "text/plain": [
       "defaultdict(int, {'__dict__': 1, 'f1': 1, 'f2': 1, 'f3': 1})"
      ]
     },
     "execution_count": 3,
     "metadata": {},
     "output_type": "execute_result"
    }
   ],
   "source": [
    "# создадим один экземпляр класса CounterGetter\n",
    "first = CounterGetter(f1='v', f2='t', f3=1)\n",
    "CounterGetter.counter"
   ]
  },
  {
   "cell_type": "code",
   "execution_count": 4,
   "metadata": {},
   "outputs": [
    {
     "data": {
      "text/plain": [
       "defaultdict(int, {'__dict__': 1, 'f1': 1, 'f2': 1, 'f3': 2})"
      ]
     },
     "execution_count": 4,
     "metadata": {},
     "output_type": "execute_result"
    }
   ],
   "source": [
    "# обратимся к одному из полей класса\n",
    "first.f3\n",
    "CounterGetter.counter"
   ]
  },
  {
   "cell_type": "code",
   "execution_count": 5,
   "metadata": {},
   "outputs": [
    {
     "data": {
      "text/plain": [
       "defaultdict(int, {'__dict__': 2, 'f1': 1, 'f2': 1, 'f3': 2, 'f4': 1})"
      ]
     },
     "execution_count": 5,
     "metadata": {},
     "output_type": "execute_result"
    }
   ],
   "source": [
    "# создадим второй экземпляр класса CounterGetter с одним полем, совпадающим с полем первого экземпляра\n",
    "second = CounterGetter(f1='r', f4=1)\n",
    "CounterGetter.counter"
   ]
  },
  {
   "cell_type": "code",
   "execution_count": 6,
   "metadata": {},
   "outputs": [
    {
     "data": {
      "text/plain": [
       "defaultdict(int, {'__dict__': 3, 'f1': 1, 'f2': 1, 'f3': 2, 'f4': 1})"
      ]
     },
     "execution_count": 6,
     "metadata": {},
     "output_type": "execute_result"
    }
   ],
   "source": [
    "third = CounterGetter(f1=first, f2=second)\n",
    "CounterGetter.counter"
   ]
  },
  {
   "cell_type": "code",
   "execution_count": 7,
   "metadata": {},
   "outputs": [
    {
     "data": {
      "text/plain": [
       "defaultdict(int, {'__dict__': 6, 'f1': 3, 'f2': 2, 'f3': 2, 'f4': 1})"
      ]
     },
     "execution_count": 7,
     "metadata": {},
     "output_type": "execute_result"
    }
   ],
   "source": [
    "# сделаем несколько обращений к разным агрументам\n",
    "first.f1 = 3\n",
    "second.f1 = 'a'\n",
    "third.f2 = 'qaz'\n",
    "CounterGetter.counter"
   ]
  },
  {
   "cell_type": "markdown",
   "metadata": {},
   "source": [
    "## 3. Vector (0.4 балла)\n",
    "Реализуйте класс вектор, который должен обладать следующими свойствами:\n",
    "\n",
    "Над экземплярами выполняются арифметические операции (+-*/). Операции могут выполняться как с числами, так и с векторами. Если второй операнд вектор, то верните их скалярное произведение, если число, выполните поэлементное действие.\n",
    "Реализуйте доступ к элементам вектора по индексам:\n",
    "\n",
    "vec = Vector(1, 2, 3)\n",
    "\n",
    "vec[0]\n",
    "\n",
    "Реализуйте умножение вектора на матрицу (Матрица задается двумерным списком).\n",
    "Поддерживайте методы push_back, pop_back, insert.\n",
    "Реализуйте поддержку функции len"
   ]
  },
  {
   "cell_type": "code",
   "execution_count": 8,
   "metadata": {},
   "outputs": [],
   "source": [
    "class Vector(object):\n",
    "    \n",
    "    def __init__(self, *args):\n",
    "        self._vector = list(args)\n",
    "        \n",
    "    def __add__(self, other):\n",
    "        if isinstance(other, Vector):\n",
    "            if len(self) != len(other):\n",
    "                raise Exception('Vector sizes are not equal')\n",
    "            return(Vector(*[first + second for first, second in zip(self._vector, other._vector)]))\n",
    "        elif isinstance(other, (int, float, complex)):\n",
    "            return(Vector(*[first + other for first in self._vector]))\n",
    "        else:\n",
    "            raise Exception('Adding value can not be casted to the Vector')\n",
    "            \n",
    "    def __iadd__(self, other):\n",
    "        self = self + other\n",
    "        return self\n",
    "    \n",
    "    def __sub__(self, other):\n",
    "        if isinstance(other, Vector):\n",
    "            if len(self) != len(other):\n",
    "                raise Exception('Vector sizes are not equal')\n",
    "            return(Vector(*[first - second for first, second in zip(self._vector, other._vector)]))\n",
    "        elif isinstance(other, (int, float, complex)):\n",
    "            return(Vector(*[first - other for first in self._vector]))\n",
    "        else:\n",
    "            raise Exception('Adding value can not be casted to the Vector')\n",
    "        \n",
    "    def __isub__(self, other):\n",
    "        self = self - other\n",
    "        return self\n",
    "    \n",
    "    def __mul__(self, other):\n",
    "        if isinstance(other, Vector):\n",
    "            if len(self) != len(other):\n",
    "                raise Exception('Vector sizes are not equal')\n",
    "            return(sum([first * second for first, second in zip(self._vector, other._vector)]))\n",
    "        elif isinstance(other, (int, float, complex)):\n",
    "            return(Vector(*[first * other for first in self._vector]))\n",
    "        else:\n",
    "            raise Exception('Adding value can not be casted to the Vector')\n",
    "            \n",
    "    def __imul__(self, other):\n",
    "        self = self * other\n",
    "        return self\n",
    "    \n",
    "    def __truediv__(self, other):\n",
    "        if isinstance(other, Vector):\n",
    "            if len(self) != len(other):\n",
    "                raise Exception('Vector sizes are not equal')\n",
    "            return(Vector(*[first / second for first, second in zip(self._vector, other._vector)]))\n",
    "        elif isinstance(other, (int, float, complex)):\n",
    "            return(Vector(*[first / other for first in self._vector]))\n",
    "        else:\n",
    "            raise Exception('Adding value can not be casted to the Vector')\n",
    "            \n",
    "    def __itruediv__(self, other):\n",
    "        self = self / other\n",
    "        return self\n",
    "       \n",
    "    def __getitem__(self, key):\n",
    "        return self._vector[key]\n",
    "    \n",
    "    def __setitem__(self, key, value):\n",
    "        self._vector[key] = value\n",
    "    \n",
    "    def __len__(self):\n",
    "        return len(self._vector)\n",
    "    \n",
    "    def __repr__(self):\n",
    "        return '[' + ', '.join([str(el) for el in self._vector]) + ']'\n",
    "    \n",
    "    def mm(self, matrix):\n",
    "        '''Matrix multiplication function'''\n",
    "        if len(self) != len(matrix[0]):\n",
    "            raise Exception('The number of columns in matrix is not equal to Vector size')\n",
    "        else:\n",
    "            return Vector(*[sum([first * second for first, second in zip(row, self._vector)]) for row in matrix])\n",
    "        \n",
    "    def push_back(self, value):\n",
    "        self._vector.append(value)\n",
    "        \n",
    "    def pop_back(self):\n",
    "        self._vector.pop()\n",
    "        \n",
    "    def insert(self, index, value):\n",
    "        self._vector.insert(index, value)"
   ]
  },
  {
   "cell_type": "markdown",
   "metadata": {},
   "source": [
    "Проверим работу класса."
   ]
  },
  {
   "cell_type": "code",
   "execution_count": 9,
   "metadata": {},
   "outputs": [],
   "source": [
    "v1 = Vector(0, 1, 2, 3)\n",
    "v2 = Vector(4, 5, 6, 7)"
   ]
  },
  {
   "cell_type": "code",
   "execution_count": 10,
   "metadata": {},
   "outputs": [
    {
     "name": "stdout",
     "output_type": "stream",
     "text": [
      "The length of the vector [0, 1, 2, 3] is 4\n",
      "The element of vector [0, 1, 2, 3] with index 0 is 0\n",
      "The element of vector [4, 5, 6, 7] with index 2 is 6\n"
     ]
    }
   ],
   "source": [
    "print('The length of the vector {} is {}'.format(v1, len(v1)))\n",
    "print('The element of vector {} with index {} is {}'.format(v1, 0, v1[0]))\n",
    "print('The element of vector {} with index {} is {}'.format(v2, 2, v2[2]))"
   ]
  },
  {
   "cell_type": "code",
   "execution_count": 11,
   "metadata": {},
   "outputs": [
    {
     "name": "stdout",
     "output_type": "stream",
     "text": [
      "Result of adding number 5.0 to vector [0, 1, 2, 3] is [5.0, 6.0, 7.0, 8.0]\n",
      "Result of subtracting number 5.0 from vector [0, 1, 2, 3] is [-5.0, -4.0, -3.0, -2.0]\n",
      "Result of multiplicaton of vector [4, 5, 6, 7] by the number 5.0 is [20.0, 25.0, 30.0, 35.0]\n",
      "Result of division of vector [4, 5, 6, 7] by the number 5.0 is [0.8, 1.0, 1.2, 1.4]\n"
     ]
    }
   ],
   "source": [
    "number = 5.\n",
    "print('Result of adding number {} to vector {} is {}'.format(number, v1, v1 + number))\n",
    "print('Result of subtracting number {} from vector {} is {}'.format(number, v1, v1 - number))\n",
    "print('Result of multiplicaton of vector {} by the number {} is {}'.format(v2, number, v2 * number))\n",
    "print('Result of division of vector {} by the number {} is {}'.format(v2, number, v2 / number))"
   ]
  },
  {
   "cell_type": "code",
   "execution_count": 12,
   "metadata": {},
   "outputs": [
    {
     "name": "stdout",
     "output_type": "stream",
     "text": [
      "Result of adding vector [4, 5, 6, 7] to vector [0, 1, 2, 3] is [4, 6, 8, 10]\n",
      "Result of subtracting vector [0, 1, 2, 3] from vector [4, 5, 6, 7] is [4, 4, 4, 4]\n",
      "Result of multiplication of vector [4, 5, 6, 7] and vector [0, 1, 2, 3] is 38\n",
      "Result of division of vector [0, 1, 2, 3] by vector [4, 5, 6, 7] is [0.0, 0.2, 0.3333333333333333, 0.42857142857142855]\n"
     ]
    }
   ],
   "source": [
    "print('Result of adding vector {} to vector {} is {}'.format(v2, v1, v1 + v2))\n",
    "print('Result of subtracting vector {} from vector {} is {}'.format(v1, v2, v2 - v1))\n",
    "print('Result of multiplication of vector {} and vector {} is {}'.format(v2, v1, v2 * v1))\n",
    "print('Result of division of vector {} by vector {} is {}'.format(v1, v2, v1 / v2))"
   ]
  },
  {
   "cell_type": "code",
   "execution_count": 13,
   "metadata": {},
   "outputs": [],
   "source": [
    "import numpy as np"
   ]
  },
  {
   "cell_type": "code",
   "execution_count": 14,
   "metadata": {},
   "outputs": [
    {
     "name": "stdout",
     "output_type": "stream",
     "text": [
      "Result of multiplying matrix by the vector using mm method in Vector class is [60, 148, 236]\n",
      "Result of multiplying matrix by the vector using numpy is [ 60 148 236]\n"
     ]
    }
   ],
   "source": [
    "matrix = [[1, 2, 3, 4],\n",
    "          [5, 6, 7, 8],\n",
    "          [9, 10, 11, 12]]\n",
    "\n",
    "print('Result of multiplying matrix by the vector using mm method in Vector class is {}'.format(v2.mm(matrix)))\n",
    "print('Result of multiplying matrix by the vector using numpy is {}'.format(np.array(matrix) @ np.array([4, 5, 6, 7])))"
   ]
  },
  {
   "cell_type": "code",
   "execution_count": 15,
   "metadata": {},
   "outputs": [
    {
     "name": "stdout",
     "output_type": "stream",
     "text": [
      "Vector before pushing back: [0, 1, 2, 3]\n",
      "Vector after pushing back the number 5.0: [0, 1, 2, 3, 5.0]\n"
     ]
    }
   ],
   "source": [
    "print('Vector before pushing back: {}'.format(v1))\n",
    "v1.push_back(number)\n",
    "print('Vector after pushing back the number {}: {}'.format(number, v1))"
   ]
  },
  {
   "cell_type": "code",
   "execution_count": 16,
   "metadata": {},
   "outputs": [
    {
     "name": "stdout",
     "output_type": "stream",
     "text": [
      "Vector before popping the value: [4, 5, 6, 7]\n",
      "Vector after popping the value: [4, 5, 6]\n"
     ]
    }
   ],
   "source": [
    "print('Vector before popping the value: {}'.format(v2))\n",
    "v2.pop_back()\n",
    "print('Vector after popping the value: {}'.format(v2))"
   ]
  },
  {
   "cell_type": "code",
   "execution_count": 17,
   "metadata": {},
   "outputs": [
    {
     "name": "stdout",
     "output_type": "stream",
     "text": [
      "Vector before inserting the value: [0, 1, 2, 3, 5.0]\n",
      "Vector after insertion of the value 5.0 to the position 1: [0, 5.0, 1, 2, 3, 5.0]\n"
     ]
    }
   ],
   "source": [
    "index = 1\n",
    "print('Vector before inserting the value: {}'.format(v1))\n",
    "v1.insert(index, number)\n",
    "print('Vector after insertion of the value {} to the position {}: {}'.format(number, index, v1))"
   ]
  }
 ],
 "metadata": {
  "kernelspec": {
   "display_name": "Python 3",
   "language": "python",
   "name": "python3"
  },
  "language_info": {
   "codemirror_mode": {
    "name": "ipython",
    "version": 3
   },
   "file_extension": ".py",
   "mimetype": "text/x-python",
   "name": "python",
   "nbconvert_exporter": "python",
   "pygments_lexer": "ipython3",
   "version": "3.7.4"
  }
 },
 "nbformat": 4,
 "nbformat_minor": 2
}
