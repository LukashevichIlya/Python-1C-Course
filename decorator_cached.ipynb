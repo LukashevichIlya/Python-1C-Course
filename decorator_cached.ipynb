{
 "cells": [
  {
   "cell_type": "markdown",
   "metadata": {},
   "source": [
    "# Декоратор @cached"
   ]
  },
  {
   "cell_type": "markdown",
   "metadata": {},
   "source": [
    "#### Реализуйте класс для хранения результатов выполнения функции\n",
    "\n",
    "* max_count - максимальное число хранимых результатов. Если число результатов превышает max_count, требуется выбросить первый результат, т. е. в кеше должно храниться не более max_count последних результатов.\n",
    "* продумайте архитектуру кеша так, чтобы для функций:\n",
    "\n",
    "<code>\n",
    "@cached\n",
    "def f1():\n",
    "    pass\n",
    "\n",
    "@cached\n",
    "def f2():\n",
    "    pass\n",
    "</code>    \n",
    "должны иметь по max_count хранимых последних результатов, и т. д.\n",
    "\n",
    "<b>P. S.</b>\n",
    "\n",
    "* Считайте, что функция не имеет состояния (зависит только от передаваемых в нее аргументов).\n",
    "* Храните данные так, чтобы из функции нельзя напрямую было получить закешированные результаты (только через \\_\\_closer\\_\\_).\n",
    "\n",
    "<b>Рекомендации:</b>\n",
    "\n",
    "* Для хранения данных используйте OrderedDict.\n",
    "* Декорируйте wrapper с @functools.wraps(func)"
   ]
  },
  {
   "cell_type": "code",
   "execution_count": 1,
   "metadata": {},
   "outputs": [],
   "source": [
    "import functools\n",
    "import collections\n",
    "import time"
   ]
  },
  {
   "cell_type": "code",
   "execution_count": 2,
   "metadata": {},
   "outputs": [],
   "source": [
    "class LruCache:\n",
    "    def __init__(self, max_count):\n",
    "        self.__cache = collections.OrderedDict()\n",
    "        self.__cache_count = max_count\n",
    "\n",
    "    def __getitem__(self, key):\n",
    "        return self.__cache.get(key)\n",
    "\n",
    "    def __setitem__(self, key, value):\n",
    "        self.__cache[key] = value\n",
    "        if self.__cache_count < len(self.__cache):\n",
    "            self.__cache.popitem(last=False)\n",
    "    \n",
    "    def __contains__(self, key):\n",
    "        return key in self.__cache"
   ]
  },
  {
   "cell_type": "markdown",
   "metadata": {},
   "source": [
    "#### Реализуйте декоратор"
   ]
  },
  {
   "cell_type": "code",
   "execution_count": 3,
   "metadata": {},
   "outputs": [],
   "source": [
    "def cached(max_count):\n",
    "    def decorator(func):\n",
    "        cache = LruCache(max_count)\n",
    "        \n",
    "        @functools.wraps(func)\n",
    "        def wrapper(*args, **kwargs):\n",
    "            key = tuple(list(args) + list(tuple(kwargs.items())))\n",
    "            if key not in cache:\n",
    "                cache[key] = func(*args, **kwargs)\n",
    "            return cache[key]\n",
    "        \n",
    "        return wrapper\n",
    "    \n",
    "    return decorator"
   ]
  },
  {
   "cell_type": "markdown",
   "metadata": {},
   "source": [
    "#### Проверьте использование декоратора"
   ]
  },
  {
   "cell_type": "markdown",
   "metadata": {},
   "source": [
    "Сравним время работы функции подсчета факториала числа с использованием декоратора `@cached` и без его использования."
   ]
  },
  {
   "cell_type": "code",
   "execution_count": 4,
   "metadata": {},
   "outputs": [],
   "source": [
    "@cached(20)\n",
    "def fact(n):\n",
    "    if n < 2:\n",
    "        return 1\n",
    "    return fact(n-1) * n\n",
    "\n",
    "def fact1(n):\n",
    "    if n < 2:\n",
    "        return 1\n",
    "    return fact1(n-1) * n"
   ]
  },
  {
   "cell_type": "code",
   "execution_count": 5,
   "metadata": {},
   "outputs": [
    {
     "name": "stdout",
     "output_type": "stream",
     "text": [
      "Running time with @cached: 0.0036826133728027344\n",
      "Running time without @cached: 0.14880943298339844\n"
     ]
    }
   ],
   "source": [
    "cached_start = time.time()\n",
    "\n",
    "for i in range(1000):\n",
    "    fact(i + 1)\n",
    "\n",
    "cached_finish = time.time()\n",
    "print(\"Running time with @cached: {}\".format(cached_finish - cached_start))\n",
    "\n",
    "not_cached_start = time.time()\n",
    "\n",
    "for i in range(1000):\n",
    "    fact1(i + 1)\n",
    "\n",
    "not_cached_finish = time.time()\n",
    "print(\"Running time without @cached: {}\".format(not_cached_finish - not_cached_start))"
   ]
  },
  {
   "cell_type": "markdown",
   "metadata": {},
   "source": [
    "#### Сравните свою реализацию с lru_cache из functools"
   ]
  },
  {
   "cell_type": "code",
   "execution_count": 181,
   "metadata": {},
   "outputs": [
    {
     "name": "stdout",
     "output_type": "stream",
     "text": [
      "0.16572046279907227\n"
     ]
    }
   ],
   "source": [
    "not_cached_start = time.time()\n",
    "\n",
    "for i in range(1000):\n",
    "    fact1(i + 1)\n",
    "\n",
    "not_cached_finish = time.time()\n",
    "print(not_cached_finish - not_cached_start)"
   ]
  },
  {
   "cell_type": "code",
   "execution_count": 6,
   "metadata": {},
   "outputs": [],
   "source": [
    "from functools import lru_cache\n",
    "\n",
    "@lru_cache(maxsize = 2)\n",
    "def fact3(n):\n",
    "    if n < 2:\n",
    "        return 1\n",
    "    return fact3(n-1) * n"
   ]
  },
  {
   "cell_type": "code",
   "execution_count": 7,
   "metadata": {},
   "outputs": [
    {
     "name": "stdout",
     "output_type": "stream",
     "text": [
      "Running time with @cached: 0.005354642868041992\n",
      "Running time with @lru_cache: 0.0013930797576904297\n"
     ]
    }
   ],
   "source": [
    "cached_start = time.time()\n",
    "\n",
    "for i in range(1000):\n",
    "    fact(i + 1)\n",
    "\n",
    "cached_finish = time.time()\n",
    "print(\"Running time with @cached: {}\".format(cached_finish - cached_start))\n",
    "\n",
    "lru_cache_start = time.time()\n",
    "\n",
    "for i in range(1000):\n",
    "    fact3(i + 1)\n",
    "\n",
    "lru_cache_finish = time.time()\n",
    "print(\"Running time with @lru_cache: {}\".format(lru_cache_finish - lru_cache_start))"
   ]
  }
 ],
 "metadata": {
  "kernelspec": {
   "display_name": "Python 3",
   "language": "python",
   "name": "python3"
  },
  "language_info": {
   "codemirror_mode": {
    "name": "ipython",
    "version": 3
   },
   "file_extension": ".py",
   "mimetype": "text/x-python",
   "name": "python",
   "nbconvert_exporter": "python",
   "pygments_lexer": "ipython3",
   "version": "3.7.4"
  }
 },
 "nbformat": 4,
 "nbformat_minor": 2
}
